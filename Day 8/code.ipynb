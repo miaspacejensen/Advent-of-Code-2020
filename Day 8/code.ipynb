{
 "cells": [
  {
   "cell_type": "markdown",
   "id": "387d1966",
   "metadata": {},
   "source": [
    "Part 1"
   ]
  },
  {
   "cell_type": "code",
   "execution_count": 55,
   "id": "a68896cf",
   "metadata": {},
   "outputs": [],
   "source": [
    "def get_data(file_name):\n",
    "    with open(file_name, \"r\") as file:\n",
    "        text = file.read()\n",
    "    instructions = text.split(\"\\n\")\n",
    "    instructions = [ins.split(\" \") for ins in instructions]\n",
    "    return instructions"
   ]
  },
  {
   "cell_type": "code",
   "execution_count": 56,
   "id": "df5e4368",
   "metadata": {},
   "outputs": [],
   "source": [
    "instructions = get_data(\"input.txt\")"
   ]
  },
  {
   "cell_type": "code",
   "execution_count": 57,
   "id": "8560ac66",
   "metadata": {},
   "outputs": [
    {
     "data": {
      "text/plain": [
       "1766"
      ]
     },
     "execution_count": 57,
     "metadata": {},
     "output_type": "execute_result"
    }
   ],
   "source": [
    "def get_accumulator(instructions):\n",
    "    step = 1\n",
    "    index = 0\n",
    "    visited = []\n",
    "    accumulator = 0\n",
    "    while True:\n",
    "        if (index not in visited) and (index < len(instructions)):\n",
    "                visited.append(index)\n",
    "                ins, opp = instructions[index]\n",
    "                if ins == \"nop\":\n",
    "                    index += 1\n",
    "                elif ins == \"acc\":\n",
    "                    index += 1\n",
    "                    accumulator = eval(str(accumulator) + opp)\n",
    "                elif ins == \"jmp\":\n",
    "                    index = eval(str(index) + opp)\n",
    "                step += 1\n",
    "        else:\n",
    "            break\n",
    "    return accumulator, visited\n",
    "\n",
    "accumulator, visited = get_accumulator(instructions)\n",
    "accumulator"
   ]
  },
  {
   "cell_type": "markdown",
   "id": "e0fdc754",
   "metadata": {},
   "source": [
    "Part 2"
   ]
  },
  {
   "cell_type": "code",
   "execution_count": 58,
   "id": "769f8a76",
   "metadata": {},
   "outputs": [],
   "source": [
    "import copy"
   ]
  },
  {
   "cell_type": "code",
   "execution_count": 70,
   "id": "f09437f1",
   "metadata": {},
   "outputs": [
    {
     "name": "stdout",
     "output_type": "stream",
     "text": [
      "1639\n"
     ]
    }
   ],
   "source": [
    "index = 0\n",
    "while True:\n",
    "    instructions_copy = copy.deepcopy(instructions)\n",
    "    ins = instructions_copy[index][0]\n",
    "    if ins == \"jmp\":\n",
    "        instructions_copy[index][0] = \"nop\"\n",
    "    elif ins == \"nop\":\n",
    "        instructions_copy[index][0] = \"jmp\"\n",
    "    accumulator, visited = get_accumulator(instructions_copy)\n",
    "    index += 1\n",
    "    if visited[-1] == len(instructions_copy)-1:\n",
    "        break\n",
    "print(accumulator)"
   ]
  }
 ],
 "metadata": {
  "kernelspec": {
   "display_name": "base",
   "language": "python",
   "name": "python3"
  },
  "language_info": {
   "codemirror_mode": {
    "name": "ipython",
    "version": 3
   },
   "file_extension": ".py",
   "mimetype": "text/x-python",
   "name": "python",
   "nbconvert_exporter": "python",
   "pygments_lexer": "ipython3",
   "version": "3.12.7"
  }
 },
 "nbformat": 4,
 "nbformat_minor": 5
}
