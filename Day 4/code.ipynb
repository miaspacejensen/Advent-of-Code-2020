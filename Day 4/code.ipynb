{
 "cells": [
  {
   "cell_type": "markdown",
   "id": "387d1966",
   "metadata": {},
   "source": [
    "Part 1"
   ]
  },
  {
   "cell_type": "code",
   "execution_count": 184,
   "id": "a68896cf",
   "metadata": {},
   "outputs": [],
   "source": [
    "def get_data(file_name):\n",
    "    with open(file_name, \"r\") as file:\n",
    "        text = file.read()\n",
    "    passports = text.split(\"\\n\\n\")\n",
    "    passports = [passport.replace(\"\\n\", \" \") for passport in passports]\n",
    "    passports = [passport.split(\" \") for passport in passports]\n",
    "    passports = [dict([pair.split(\":\") for pair in passport]) for passport in passports]\n",
    "    return passports"
   ]
  },
  {
   "cell_type": "code",
   "execution_count": 197,
   "id": "df5e4368",
   "metadata": {},
   "outputs": [],
   "source": [
    "passports = get_data(\"input.txt\")"
   ]
  },
  {
   "cell_type": "code",
   "execution_count": 198,
   "id": "41a77054",
   "metadata": {},
   "outputs": [
    {
     "data": {
      "text/plain": [
       "256"
      ]
     },
     "execution_count": 198,
     "metadata": {},
     "output_type": "execute_result"
    }
   ],
   "source": [
    "def count_valid_passports(passports, req_fields, ignore_fields):\n",
    "    count_valid = 0\n",
    "    for dic in passports:\n",
    "        unique_fields = set(dic.keys())\n",
    "        req_fields -= ignore_fields\n",
    "        diff = list(req_fields.difference(unique_fields))\n",
    "        if diff == []:\n",
    "            count_valid += 1\n",
    "    return count_valid\n",
    "\n",
    "req_fields = {\"byr\", \"iyr\", \"eyr\", \"hgt\", \"hcl\", \"ecl\", \"pid\", \"cid\"}\n",
    "ignore_fields = {\"cid\"}\n",
    "count_valid_passports(passports, req_fields, ignore_fields)"
   ]
  },
  {
   "cell_type": "markdown",
   "id": "6b690785",
   "metadata": {},
   "source": [
    "Part 2"
   ]
  },
  {
   "cell_type": "code",
   "execution_count": 201,
   "id": "7ce58bb5",
   "metadata": {},
   "outputs": [
    {
     "data": {
      "text/plain": [
       "198"
      ]
     },
     "execution_count": 201,
     "metadata": {},
     "output_type": "execute_result"
    }
   ],
   "source": [
    "def check_passport_validity(passport, req_fields, ignore_fields):\n",
    "    unique_fields = set(passport.keys())\n",
    "    req_fields -= ignore_fields\n",
    "    diff = list(req_fields.difference(unique_fields))\n",
    "    validity = False\n",
    "    if diff == []:\n",
    "        valid_dict = dict.fromkeys(unique_fields, \"invalid\")\n",
    "        for key, val in passport.items():\n",
    "            if key == \"byr\":\n",
    "                if val.isnumeric() and len(val)==4 and int(val)>=1920 and int(val)<=2002:\n",
    "                    valid_dict[key] = \"valid\"\n",
    "            elif key == \"iyr\":\n",
    "                if val.isnumeric() and len(val)==4 and int(val)>=2010 and int(val)<=2020:\n",
    "                    valid_dict[key] = \"valid\"\n",
    "            elif key == \"eyr\":\n",
    "                if val.isnumeric() and len(val)==4 and int(val)>=2020 and int(val)<=2030:\n",
    "                    valid_dict[key] = \"valid\"\n",
    "            elif key == \"hgt\":\n",
    "                if val[:-2].isnumeric():\n",
    "                    if val.endswith(\"cm\") and int(val[:-2])>=150 and int(val[:-2])<=193:\n",
    "                        valid_dict[key] = \"valid\"\n",
    "                    elif val.endswith(\"in\") and int(val[:-2])>=59 and int(val[:-2])<=76:\n",
    "                        valid_dict[key] = \"valid\"\n",
    "            elif key == \"hcl\":\n",
    "                if val.startswith(\"#\") and val[1:].isalnum() and len(val)==7:\n",
    "                    valid_dict[key] = \"valid\"\n",
    "            elif key == \"ecl\":\n",
    "                if val in [\"amb\", \"blu\", \"brn\", \"gry\", \"grn\", \"hzl\", \"oth\"]:\n",
    "                    valid_dict[key] = \"valid\"\n",
    "            elif key == \"pid\":\n",
    "                if val.isnumeric() and len(val)==9:\n",
    "                    valid_dict[key] = \"valid\"\n",
    "            elif key == \"cid\":\n",
    "                valid_dict[key] = \"valid\"\n",
    "        validity = all(value == \"valid\" for value in valid_dict.values())\n",
    "    return validity\n",
    "\n",
    "count_valid = 0\n",
    "for passport in passports:\n",
    "    validity = check_passport_validity(passport, req_fields, ignore_fields)\n",
    "    if validity==True:\n",
    "        count_valid+=1\n",
    "\n",
    "count_valid"
   ]
  }
 ],
 "metadata": {
  "kernelspec": {
   "display_name": "base",
   "language": "python",
   "name": "python3"
  },
  "language_info": {
   "codemirror_mode": {
    "name": "ipython",
    "version": 3
   },
   "file_extension": ".py",
   "mimetype": "text/x-python",
   "name": "python",
   "nbconvert_exporter": "python",
   "pygments_lexer": "ipython3",
   "version": "3.12.7"
  }
 },
 "nbformat": 4,
 "nbformat_minor": 5
}
