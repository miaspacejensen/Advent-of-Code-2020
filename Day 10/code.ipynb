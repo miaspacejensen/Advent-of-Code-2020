{
 "cells": [
  {
   "cell_type": "markdown",
   "id": "387d1966",
   "metadata": {},
   "source": [
    "Part 1"
   ]
  },
  {
   "cell_type": "code",
   "execution_count": 33,
   "id": "d60e692b",
   "metadata": {},
   "outputs": [],
   "source": [
    "from collections import Counter"
   ]
  },
  {
   "cell_type": "code",
   "execution_count": 34,
   "id": "a68896cf",
   "metadata": {},
   "outputs": [],
   "source": [
    "def get_data(file_name):\n",
    "    with open(file_name, \"r\") as file:\n",
    "        text = file.read()\n",
    "    nums = text.split(\"\\n\")\n",
    "    nums = list(map(int, nums))\n",
    "    return nums"
   ]
  },
  {
   "cell_type": "code",
   "execution_count": 48,
   "id": "df5e4368",
   "metadata": {},
   "outputs": [],
   "source": [
    "ratings = get_data(\"input_sample.txt\")"
   ]
  },
  {
   "cell_type": "code",
   "execution_count": 49,
   "id": "8325d887",
   "metadata": {},
   "outputs": [
    {
     "name": "stdout",
     "output_type": "stream",
     "text": [
      "[0, 1, 4, 5, 6, 7, 10, 11, 12, 15, 16, 19, 22]\n",
      "Counter({1: 7, 3: 5})\n"
     ]
    }
   ],
   "source": [
    "def get_outlet_rating(outlet_effective_rating, buffer=3, visited=None):\n",
    "    if visited is None:\n",
    "        visited = [0]\n",
    "    req_ratings = list(range(outlet_effective_rating+1, outlet_effective_rating+buffer+1))\n",
    "    outlet_effective_ratings = list(set(ratings) & set(req_ratings))\n",
    "    if not outlet_effective_ratings:\n",
    "        return visited\n",
    "    for oer in outlet_effective_ratings:\n",
    "        if oer not in visited:\n",
    "            visited += [oer]\n",
    "            get_outlet_rating(oer, buffer, visited)\n",
    "    return visited\n",
    "\n",
    "def get_differences(outlet_effective_rating, buffer=3):\n",
    "    visited = get_outlet_rating(outlet_effective_rating, buffer)\n",
    "    built_in_adapter_rating = max(ratings) + buffer\n",
    "    visited.append(built_in_adapter_rating)\n",
    "    differences = Counter([visited[i+1] - visited[i] for i in range(len(visited) - 1)])\n",
    "    return visited, differences\n",
    "\n",
    "outlet_effective_rating=0\n",
    "buffer=3\n",
    "visited, differences = get_differences(outlet_effective_rating, buffer=3)\n",
    "print(visited)\n",
    "print(differences)"
   ]
  },
  {
   "cell_type": "code",
   "execution_count": null,
   "id": "82143a69",
   "metadata": {},
   "outputs": [],
   "source": []
  }
 ],
 "metadata": {
  "kernelspec": {
   "display_name": "base",
   "language": "python",
   "name": "python3"
  },
  "language_info": {
   "codemirror_mode": {
    "name": "ipython",
    "version": 3
   },
   "file_extension": ".py",
   "mimetype": "text/x-python",
   "name": "python",
   "nbconvert_exporter": "python",
   "pygments_lexer": "ipython3",
   "version": "3.12.7"
  }
 },
 "nbformat": 4,
 "nbformat_minor": 5
}
