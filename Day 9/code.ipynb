{
 "cells": [
  {
   "cell_type": "markdown",
   "id": "387d1966",
   "metadata": {},
   "source": [
    "Part 1"
   ]
  },
  {
   "cell_type": "code",
   "execution_count": 8,
   "id": "689beb8c",
   "metadata": {},
   "outputs": [],
   "source": [
    "import itertools"
   ]
  },
  {
   "cell_type": "code",
   "execution_count": 16,
   "id": "a68896cf",
   "metadata": {},
   "outputs": [],
   "source": [
    "def get_data(file_name):\n",
    "    with open(file_name, \"r\") as file:\n",
    "        text = file.read()\n",
    "    nums = text.split(\"\\n\")\n",
    "    return nums"
   ]
  },
  {
   "cell_type": "code",
   "execution_count": 51,
   "id": "df5e4368",
   "metadata": {},
   "outputs": [],
   "source": [
    "nums = get_data(\"input.txt\")"
   ]
  },
  {
   "cell_type": "code",
   "execution_count": 59,
   "id": "3c581194",
   "metadata": {},
   "outputs": [
    {
     "data": {
      "text/plain": [
       "375054920"
      ]
     },
     "execution_count": 59,
     "metadata": {},
     "output_type": "execute_result"
    }
   ],
   "source": [
    "def get_invalid_number(nums, preamble_size):\n",
    "    index = preamble_size\n",
    "    valid = True \n",
    "    while valid:\n",
    "        if index < len(nums):\n",
    "            preamble = nums[index-preamble_size:index]\n",
    "            val = int(nums[index])\n",
    "            combs = list(itertools.combinations(preamble, 2))\n",
    "            for i, c in enumerate(combs):\n",
    "                if eval(c[0]+\"+\"+c[1]) == val:\n",
    "                    break\n",
    "                elif i == len(combs)-1:\n",
    "                    valid = False\n",
    "                    break\n",
    "            index+=1\n",
    "        else:\n",
    "            break\n",
    "    return val #, valid\n",
    "\n",
    "get_invalid_number(nums, preamble_size=25)"
   ]
  },
  {
   "cell_type": "markdown",
   "id": "505075ce",
   "metadata": {},
   "source": [
    "Part 2 (WiP)"
   ]
  },
  {
   "cell_type": "code",
   "execution_count": 121,
   "id": "8388e178",
   "metadata": {},
   "outputs": [],
   "source": [
    "nums = get_data(\"input.txt\")"
   ]
  },
  {
   "cell_type": "code",
   "execution_count": null,
   "id": "c6ceecc8",
   "metadata": {},
   "outputs": [
    {
     "data": {
      "text/plain": [
       "52595509"
      ]
     },
     "execution_count": 122,
     "metadata": {},
     "output_type": "execute_result"
    }
   ],
   "source": [
    "# def iterate_through_end(nums, start, invalid_val):\n",
    "#     end=1\n",
    "#     result=False\n",
    "#     nums = list(map(int, nums))\n",
    "#     for i in list(range(len(nums))):\n",
    "#         sum_total = sum(nums[start:end])\n",
    "#         if sum_total > 0:\n",
    "#             if sum_total == invalid_val:\n",
    "#                 result = True\n",
    "#                 break\n",
    "#         end+=1\n",
    "#     return start, end, result\n",
    "\n",
    "# def iterate_through_start(nums, preamble_size):\n",
    "#     val = get_invalid_number(nums, preamble_size)\n",
    "#     start=0\n",
    "#     for i in list(range(len(nums))):\n",
    "#         start, end, result = iterate_through_end(nums, start, invalid_val=val)\n",
    "#         if result == True:\n",
    "#             break\n",
    "#         start+=1\n",
    "#     return int(nums[start]) + int(nums[end-2])\n",
    "\n",
    "# # 52595509 = too low\n",
    "# iterate_through_start(nums, preamble_size=25)"
   ]
  },
  {
   "cell_type": "code",
   "execution_count": null,
   "id": "e796b154",
   "metadata": {},
   "outputs": [],
   "source": []
  }
 ],
 "metadata": {
  "kernelspec": {
   "display_name": "base",
   "language": "python",
   "name": "python3"
  },
  "language_info": {
   "codemirror_mode": {
    "name": "ipython",
    "version": 3
   },
   "file_extension": ".py",
   "mimetype": "text/x-python",
   "name": "python",
   "nbconvert_exporter": "python",
   "pygments_lexer": "ipython3",
   "version": "3.12.7"
  }
 },
 "nbformat": 4,
 "nbformat_minor": 5
}
