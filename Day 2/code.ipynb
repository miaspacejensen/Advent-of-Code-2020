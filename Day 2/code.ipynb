{
 "cells": [
  {
   "cell_type": "markdown",
   "id": "387d1966",
   "metadata": {},
   "source": [
    "Part 1"
   ]
  },
  {
   "cell_type": "code",
   "execution_count": 17,
   "id": "a68896cf",
   "metadata": {},
   "outputs": [],
   "source": [
    "def get_data(file_name):\n",
    "    with open(file_name, \"r\") as file:\n",
    "        text = file.read()\n",
    "    items = text.split(\"\\n\")\n",
    "    items = [item.split(\" \") for item in items]\n",
    "    items = [[list(map(int, item[0].split(\"-\"))), item[1].split(\":\")[0], item[2]] for item in items]\n",
    "    return items"
   ]
  },
  {
   "cell_type": "code",
   "execution_count": 29,
   "id": "df5e4368",
   "metadata": {},
   "outputs": [],
   "source": [
    "items = get_data(\"input.txt\")"
   ]
  },
  {
   "cell_type": "code",
   "execution_count": 30,
   "id": "45d12e77",
   "metadata": {},
   "outputs": [
    {
     "data": {
      "text/plain": [
       "524"
      ]
     },
     "execution_count": 30,
     "metadata": {},
     "output_type": "execute_result"
    }
   ],
   "source": [
    "def count_valid_passwords(items):\n",
    "    count = 0\n",
    "    for [lower, upper], char, string in items:\n",
    "        instances = string.count(char)\n",
    "        if lower <= instances <= upper:\n",
    "            count += 1\n",
    "    return count\n",
    "\n",
    "count_valid_passwords(items)"
   ]
  },
  {
   "cell_type": "markdown",
   "id": "17ad9151",
   "metadata": {},
   "source": [
    "Part 2"
   ]
  },
  {
   "cell_type": "code",
   "execution_count": 44,
   "id": "26c9ba32",
   "metadata": {},
   "outputs": [
    {
     "data": {
      "text/plain": [
       "485"
      ]
     },
     "execution_count": 44,
     "metadata": {},
     "output_type": "execute_result"
    }
   ],
   "source": [
    "def count_valid_passwords_p2(items):\n",
    "    count = 0\n",
    "    for [pos1, pos2], char, string in items:\n",
    "        if char in string[pos1-1] or char in string[pos2-1]:\n",
    "            if string[pos1-1] != string[pos2-1]:\n",
    "                count += 1\n",
    "    return count\n",
    "\n",
    "count_valid_passwords_p2(items)"
   ]
  }
 ],
 "metadata": {
  "kernelspec": {
   "display_name": "base",
   "language": "python",
   "name": "python3"
  },
  "language_info": {
   "codemirror_mode": {
    "name": "ipython",
    "version": 3
   },
   "file_extension": ".py",
   "mimetype": "text/x-python",
   "name": "python",
   "nbconvert_exporter": "python",
   "pygments_lexer": "ipython3",
   "version": "3.12.7"
  }
 },
 "nbformat": 4,
 "nbformat_minor": 5
}
