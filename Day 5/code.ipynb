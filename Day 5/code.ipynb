{
 "cells": [
  {
   "cell_type": "markdown",
   "id": "387d1966",
   "metadata": {},
   "source": [
    "Part 1"
   ]
  },
  {
   "cell_type": "code",
   "execution_count": 1,
   "id": "a68896cf",
   "metadata": {},
   "outputs": [],
   "source": [
    "def get_data(file_name):\n",
    "    with open(file_name, \"r\") as file:\n",
    "        text = file.read()\n",
    "    seats = text.split(\"\\n\")\n",
    "    return seats"
   ]
  },
  {
   "cell_type": "code",
   "execution_count": 2,
   "id": "df5e4368",
   "metadata": {},
   "outputs": [],
   "source": [
    "seats = get_data(\"input.txt\")"
   ]
  },
  {
   "cell_type": "code",
   "execution_count": 3,
   "id": "ec95c96b",
   "metadata": {},
   "outputs": [
    {
     "data": {
      "text/plain": [
       "996"
      ]
     },
     "execution_count": 3,
     "metadata": {},
     "output_type": "execute_result"
    }
   ],
   "source": [
    "def get_seat_ids(seats):\n",
    "    seat_ids = []\n",
    "    for seat in seats:\n",
    "        rows = list(range(128))\n",
    "        cols = list(range(8))\n",
    "        for char in seat:\n",
    "            num_rows = int(len(rows)/2)\n",
    "            num_cols = int(len(cols)/2)\n",
    "            if char==\"F\":\n",
    "                rows = rows[:num_rows]\n",
    "            elif char==\"B\":\n",
    "                rows = rows[num_rows:]\n",
    "            elif char==\"R\":\n",
    "                cols = cols[num_cols:]\n",
    "            elif char==\"L\":\n",
    "                cols = cols[:num_cols]\n",
    "        seat_id = rows[0] * 8 + cols[0]\n",
    "        seat_ids.append(seat_id)\n",
    "    return seat_ids\n",
    "\n",
    "seat_ids = get_seat_ids(seats)\n",
    "max(seat_ids)"
   ]
  },
  {
   "cell_type": "markdown",
   "id": "c6053e04",
   "metadata": {},
   "source": [
    "Part 2"
   ]
  },
  {
   "cell_type": "code",
   "execution_count": 4,
   "id": "92111529",
   "metadata": {},
   "outputs": [
    {
     "data": {
      "text/plain": [
       "[671]"
      ]
     },
     "execution_count": 4,
     "metadata": {},
     "output_type": "execute_result"
    }
   ],
   "source": [
    "possible_ids = set(range(min(sorted(seat_ids)), max(sorted(seat_ids))+1))\n",
    "actual_ids = set(sorted(seat_ids))\n",
    "diff = list(possible_ids - actual_ids)\n",
    "diff"
   ]
  }
 ],
 "metadata": {
  "kernelspec": {
   "display_name": "base",
   "language": "python",
   "name": "python3"
  },
  "language_info": {
   "codemirror_mode": {
    "name": "ipython",
    "version": 3
   },
   "file_extension": ".py",
   "mimetype": "text/x-python",
   "name": "python",
   "nbconvert_exporter": "python",
   "pygments_lexer": "ipython3",
   "version": "3.12.7"
  }
 },
 "nbformat": 4,
 "nbformat_minor": 5
}
