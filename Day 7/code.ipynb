{
 "cells": [
  {
   "cell_type": "markdown",
   "id": "387d1966",
   "metadata": {},
   "source": [
    "Part 1"
   ]
  },
  {
   "cell_type": "code",
   "execution_count": 140,
   "id": "a68896cf",
   "metadata": {},
   "outputs": [],
   "source": [
    "def get_data(file_name):\n",
    "    with open(file_name, \"r\") as file:\n",
    "        text = file.read()\n",
    "    rules = text.split(\"\\n\")\n",
    "    return rules"
   ]
  },
  {
   "cell_type": "code",
   "execution_count": 141,
   "id": "df5e4368",
   "metadata": {},
   "outputs": [],
   "source": [
    "rules = get_data(\"input.txt\")"
   ]
  },
  {
   "cell_type": "code",
   "execution_count": 142,
   "id": "af5e62b1",
   "metadata": {},
   "outputs": [],
   "source": [
    "from collections import defaultdict, deque"
   ]
  },
  {
   "cell_type": "code",
   "execution_count": 143,
   "id": "b68d0d31",
   "metadata": {},
   "outputs": [],
   "source": [
    "def create_graph(rules):\n",
    "    graph = {}\n",
    "    for rule in rules:\n",
    "        container, bags = rule.split(\" bags contain \")\n",
    "        bags = [bag.rsplit(maxsplit=1)[0] for bag in bags.split(\", \")]\n",
    "        bag_contents = {}\n",
    "        if bags[0] != \"no other\":\n",
    "            for bag in bags:\n",
    "                num, colour = bag.split(\" \", maxsplit=1)\n",
    "                bag_contents[colour] = int(num)\n",
    "        graph[container] = bag_contents\n",
    "    return graph\n",
    "\n",
    "graph = create_graph(rules)"
   ]
  },
  {
   "cell_type": "code",
   "execution_count": 144,
   "id": "56cea523",
   "metadata": {},
   "outputs": [
    {
     "data": {
      "text/plain": [
       "208"
      ]
     },
     "execution_count": 144,
     "metadata": {},
     "output_type": "execute_result"
    }
   ],
   "source": [
    "reverse_graph = defaultdict(set)\n",
    "\n",
    "for container, bags in graph.items():\n",
    "    for inner in bags:\n",
    "        reverse_graph[inner].add(container)\n",
    "\n",
    "def find_containers(my_bag, reverse_graph):\n",
    "    visited = set()\n",
    "    queue = deque([my_bag])\n",
    "    while queue:\n",
    "        current = queue.popleft()\n",
    "        for container in reverse_graph[current]:\n",
    "            if container not in visited:\n",
    "                visited.add(container)\n",
    "                queue.append(container)\n",
    "    return visited\n",
    "\n",
    "containers = find_containers(\"shiny gold\", reverse_graph)\n",
    "len(containers)"
   ]
  },
  {
   "cell_type": "markdown",
   "id": "096f08ae",
   "metadata": {},
   "source": [
    "Part 2"
   ]
  },
  {
   "cell_type": "code",
   "execution_count": 145,
   "id": "ae984903",
   "metadata": {},
   "outputs": [
    {
     "data": {
      "text/plain": [
       "1664"
      ]
     },
     "execution_count": 145,
     "metadata": {},
     "output_type": "execute_result"
    }
   ],
   "source": [
    "def count_bags(graph, bag_color):\n",
    "    total = 0\n",
    "    for child_color, count in graph[bag_color].items():\n",
    "        total += count * (1 + count_bags(graph, child_color))\n",
    "    return total\n",
    "\n",
    "count_bags(graph, \"shiny gold\")"
   ]
  }
 ],
 "metadata": {
  "kernelspec": {
   "display_name": "base",
   "language": "python",
   "name": "python3"
  },
  "language_info": {
   "codemirror_mode": {
    "name": "ipython",
    "version": 3
   },
   "file_extension": ".py",
   "mimetype": "text/x-python",
   "name": "python",
   "nbconvert_exporter": "python",
   "pygments_lexer": "ipython3",
   "version": "3.12.7"
  }
 },
 "nbformat": 4,
 "nbformat_minor": 5
}
