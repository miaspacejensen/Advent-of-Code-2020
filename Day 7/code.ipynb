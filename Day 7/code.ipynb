{
 "cells": [
  {
   "cell_type": "markdown",
   "id": "387d1966",
   "metadata": {},
   "source": [
    "Part 1"
   ]
  },
  {
   "cell_type": "code",
   "execution_count": 97,
   "id": "a68896cf",
   "metadata": {},
   "outputs": [],
   "source": [
    "def get_data(file_name):\n",
    "    with open(file_name, \"r\") as file:\n",
    "        text = file.read()\n",
    "    rules = text.split(\"\\n\")\n",
    "    return rules"
   ]
  },
  {
   "cell_type": "code",
   "execution_count": 107,
   "id": "df5e4368",
   "metadata": {},
   "outputs": [],
   "source": [
    "rules = get_data(\"input_sample.txt\")"
   ]
  },
  {
   "cell_type": "code",
   "execution_count": 108,
   "id": "b68d0d31",
   "metadata": {},
   "outputs": [],
   "source": [
    "def create_graph(rules):\n",
    "    graph = {}\n",
    "    for rule in rules:\n",
    "        key, bags = rule.split(\" bags contain \")\n",
    "        bags = [bag.rsplit(maxsplit=1)[0] for bag in bags.split(\", \")]\n",
    "        bag_contents = {}\n",
    "        if bags[0] != \"no other\":\n",
    "            for bag in bags:\n",
    "                num, colour = bag.split(\" \", maxsplit=1)\n",
    "                bag_contents[colour] = int(num)\n",
    "        graph[key] = bag_contents\n",
    "    return graph\n",
    "\n",
    "graph = create_graph(rules)"
   ]
  },
  {
   "cell_type": "code",
   "execution_count": 109,
   "id": "f61a1479",
   "metadata": {},
   "outputs": [
    {
     "data": {
      "text/plain": [
       "{'dark olive', 'dotted black', 'faded blue', 'vibrant plum'}"
      ]
     },
     "execution_count": 109,
     "metadata": {},
     "output_type": "execute_result"
    }
   ],
   "source": [
    "# build reverse graph (i.e., given child, find list of parents)\n",
    "from collections import deque\n",
    "\n",
    "def find_bag_containers(my_bag):\n",
    "    visited = set()\n",
    "    queue = deque([my_bag])\n",
    "    while queue:\n",
    "        colour = queue.popleft()\n",
    "        for container in graph[colour]:\n",
    "            if container not in visited:\n",
    "                visited.add(container)\n",
    "                queue.append(container)\n",
    "    return visited\n",
    "\n",
    "bag_containers = find_bag_containers(\"shiny gold\")\n",
    "bag_containers"
   ]
  },
  {
   "cell_type": "code",
   "execution_count": null,
   "id": "a96a60c0",
   "metadata": {},
   "outputs": [],
   "source": [
    "\n"
   ]
  }
 ],
 "metadata": {
  "kernelspec": {
   "display_name": "base",
   "language": "python",
   "name": "python3"
  },
  "language_info": {
   "codemirror_mode": {
    "name": "ipython",
    "version": 3
   },
   "file_extension": ".py",
   "mimetype": "text/x-python",
   "name": "python",
   "nbconvert_exporter": "python",
   "pygments_lexer": "ipython3",
   "version": "3.12.7"
  }
 },
 "nbformat": 4,
 "nbformat_minor": 5
}
