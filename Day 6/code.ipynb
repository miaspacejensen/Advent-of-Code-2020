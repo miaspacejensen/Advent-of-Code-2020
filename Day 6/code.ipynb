{
 "cells": [
  {
   "cell_type": "markdown",
   "id": "387d1966",
   "metadata": {},
   "source": [
    "Part 1"
   ]
  },
  {
   "cell_type": "code",
   "execution_count": 16,
   "id": "a68896cf",
   "metadata": {},
   "outputs": [],
   "source": [
    "def get_data(file_name):\n",
    "    with open(file_name, \"r\") as file:\n",
    "        text = file.read()\n",
    "    groups = text.split(\"\\n\\n\")\n",
    "    groups = [[list(answer) for answer in group.split(\"\\n\")] for group in groups]\n",
    "    return groups"
   ]
  },
  {
   "cell_type": "code",
   "execution_count": 47,
   "id": "df5e4368",
   "metadata": {},
   "outputs": [],
   "source": [
    "groups = get_data(\"input.txt\")"
   ]
  },
  {
   "cell_type": "code",
   "execution_count": 71,
   "id": "88c6482a",
   "metadata": {},
   "outputs": [
    {
     "data": {
      "text/plain": [
       "11"
      ]
     },
     "execution_count": 71,
     "metadata": {},
     "output_type": "execute_result"
    }
   ],
   "source": [
    "count = 0\n",
    "for people in groups:\n",
    "    unique_correct_answers = set()\n",
    "    for person in people:\n",
    "        for answer in person:\n",
    "            unique_correct_answers.add(answer)\n",
    "    count += len(unique_correct_answers)\n",
    "count"
   ]
  },
  {
   "cell_type": "markdown",
   "id": "9e30d034",
   "metadata": {},
   "source": [
    "Part 2"
   ]
  },
  {
   "cell_type": "code",
   "execution_count": 74,
   "id": "b8eb0da1",
   "metadata": {},
   "outputs": [],
   "source": [
    "groups = get_data(\"input.txt\")"
   ]
  },
  {
   "cell_type": "code",
   "execution_count": 75,
   "id": "c4c8ea01",
   "metadata": {},
   "outputs": [
    {
     "data": {
      "text/plain": [
       "3193"
      ]
     },
     "execution_count": 75,
     "metadata": {},
     "output_type": "execute_result"
    }
   ],
   "source": [
    "count = 0 \n",
    "for people in groups:\n",
    "    num_people = len(people)\n",
    "    answer_counts = dict()\n",
    "    for person in people:\n",
    "        for answer in person:\n",
    "            if answer in answer_counts.keys():\n",
    "                answer_counts[answer] += 1\n",
    "            else:\n",
    "                answer_counts[answer] = 1\n",
    "    result = [key for key, value in answer_counts.items() if value == num_people]\n",
    "    count += len(result)\n",
    "count"
   ]
  },
  {
   "cell_type": "code",
   "execution_count": null,
   "id": "aa7c20e0",
   "metadata": {},
   "outputs": [],
   "source": []
  }
 ],
 "metadata": {
  "kernelspec": {
   "display_name": "base",
   "language": "python",
   "name": "python3"
  },
  "language_info": {
   "codemirror_mode": {
    "name": "ipython",
    "version": 3
   },
   "file_extension": ".py",
   "mimetype": "text/x-python",
   "name": "python",
   "nbconvert_exporter": "python",
   "pygments_lexer": "ipython3",
   "version": "3.12.7"
  }
 },
 "nbformat": 4,
 "nbformat_minor": 5
}
