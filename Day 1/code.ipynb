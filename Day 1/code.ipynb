{
 "cells": [
  {
   "cell_type": "markdown",
   "id": "387d1966",
   "metadata": {},
   "source": [
    "Part 1"
   ]
  },
  {
   "cell_type": "code",
   "execution_count": 15,
   "id": "a68896cf",
   "metadata": {},
   "outputs": [],
   "source": [
    "def get_data(file_name):\n",
    "    with open(file_name, \"r\") as file:\n",
    "        text = file.read()\n",
    "    values = text.split(\"\\n\")\n",
    "    values = [int(val) for val in values]\n",
    "    return values"
   ]
  },
  {
   "cell_type": "code",
   "execution_count": 16,
   "id": "df5e4368",
   "metadata": {},
   "outputs": [],
   "source": [
    "values = get_data(\"input.txt\")"
   ]
  },
  {
   "cell_type": "code",
   "execution_count": 17,
   "id": "d33a66e2",
   "metadata": {},
   "outputs": [
    {
     "data": {
      "text/plain": [
       "918339"
      ]
     },
     "execution_count": 17,
     "metadata": {},
     "output_type": "execute_result"
    }
   ],
   "source": [
    "def find_result(values):\n",
    "    for val1 in values:\n",
    "        for val2 in values:\n",
    "            if val1 + val2 == 2020:\n",
    "                return val1 * val2\n",
    "\n",
    "find_result(values)"
   ]
  },
  {
   "cell_type": "markdown",
   "id": "3684b4d6",
   "metadata": {},
   "source": [
    "Part 2"
   ]
  },
  {
   "cell_type": "code",
   "execution_count": 18,
   "id": "50391acb",
   "metadata": {},
   "outputs": [
    {
     "data": {
      "text/plain": [
       "23869440"
      ]
     },
     "execution_count": 18,
     "metadata": {},
     "output_type": "execute_result"
    }
   ],
   "source": [
    "def find_result_p2(values):\n",
    "    for val1 in values:\n",
    "        for val2 in values:\n",
    "            for val3 in values:\n",
    "                if val1 + val2 + val3 == 2020:\n",
    "                    return val1 * val2 * val3\n",
    "\n",
    "find_result_p2(values)"
   ]
  }
 ],
 "metadata": {
  "kernelspec": {
   "display_name": "base",
   "language": "python",
   "name": "python3"
  },
  "language_info": {
   "codemirror_mode": {
    "name": "ipython",
    "version": 3
   },
   "file_extension": ".py",
   "mimetype": "text/x-python",
   "name": "python",
   "nbconvert_exporter": "python",
   "pygments_lexer": "ipython3",
   "version": "3.12.7"
  }
 },
 "nbformat": 4,
 "nbformat_minor": 5
}
